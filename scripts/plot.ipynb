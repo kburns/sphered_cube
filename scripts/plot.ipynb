{
 "cells": [
  {
   "cell_type": "code",
   "execution_count": 1,
   "metadata": {},
   "outputs": [],
   "source": [
    "import numpy as np"
   ]
  },
  {
   "cell_type": "code",
   "execution_count": 2,
   "metadata": {},
   "outputs": [],
   "source": [
    "import ipyvolume as ipv"
   ]
  },
  {
   "cell_type": "code",
   "execution_count": 3,
   "metadata": {},
   "outputs": [],
   "source": [
    "import matplotlib.pyplot as plt"
   ]
  },
  {
   "cell_type": "code",
   "execution_count": 4,
   "metadata": {},
   "outputs": [],
   "source": [
    "%matplotlib widget"
   ]
  },
  {
   "cell_type": "code",
   "execution_count": 5,
   "metadata": {},
   "outputs": [],
   "source": [
    "import xarray as xr\n",
    "import h5py"
   ]
  },
  {
   "cell_type": "code",
   "execution_count": 6,
   "metadata": {},
   "outputs": [],
   "source": [
    "def hdf5_to_xarray(h5_data):\n",
    "    \"\"\"Convert hdf5 dataset to xarray dataset.\"\"\"\n",
    "    data = h5_data[:]\n",
    "    coords = [(dim.label, dim[0][:]) for dim in h5_data.dims]\n",
    "    xr_data = xr.DataArray(data, coords=[coords[0], coords[3], coords[2], coords[1]])\n",
    "    return xr_data"
   ]
  },
  {
   "cell_type": "code",
   "execution_count": 7,
   "metadata": {},
   "outputs": [],
   "source": [
    "def get_data(setnum, task, skip=1):\n",
    "    # Load file\n",
    "    filename = \"/Users/kburns/Desktop/rbc_s%i.h5\" %setnum\n",
    "    file = h5py.File(filename, 'r')\n",
    "    # Get data\n",
    "    #return file['tasks'][task]\n",
    "    xr = hdf5_to_xarray(file['tasks'][task])\n",
    "    return xr"
   ]
  },
  {
   "cell_type": "code",
   "execution_count": 17,
   "metadata": {},
   "outputs": [],
   "source": [
    "def extrap_full_sphere(X):\n",
    "    # Extrapolate in theta\n",
    "    X_0 = X.interp(theta=0, kwargs={'fill_value': 'extrapolate'})\n",
    "    X_pi = X.interp(theta=np.pi, kwargs={'fill_value': 'extrapolate'})\n",
    "    X = xr.concat([X_pi, X, X_0], dim='theta')\n",
    "    # Extrapolate in r\n",
    "    X_0 = X.interp(r=0, kwargs={'fill_value': 'extrapolate'})\n",
    "    X = xr.concat([X_0, X], dim='r')\n",
    "    return X"
   ]
  },
  {
   "cell_type": "code",
   "execution_count": 18,
   "metadata": {},
   "outputs": [],
   "source": [
    "T = extrap_full_sphere(get_data(1, 'T'))\n",
    "T.coords['z'] = T.coords['r'] * np.cos(T.coords['theta'])\n",
    "T.coords['x'] = T.coords['r'] * np.sin(T.coords['theta']) * np.cos(T.coords['phi'])"
   ]
  },
  {
   "cell_type": "code",
   "execution_count": 19,
   "metadata": {},
   "outputs": [
    {
     "data": {
      "text/plain": [
       "<xarray.DataArray (t: 34, phi: 384, theta: 194, r: 193)>\n",
       "array([[[[ 8.030939e-05, ..., -4.185452e-05],\n",
       "         ...,\n",
       "         [-2.877264e-05, ...,  4.219132e-04]],\n",
       "\n",
       "        ...,\n",
       "\n",
       "        [[ 8.030902e-05, ..., -3.816457e-05],\n",
       "         ...,\n",
       "         [-2.877235e-05, ...,  4.187921e-04]]],\n",
       "\n",
       "\n",
       "       ...,\n",
       "\n",
       "\n",
       "       [[[-5.485435e-02, ...,  8.610606e-08],\n",
       "         ...,\n",
       "         [-5.478079e-02, ..., -8.713279e-08]],\n",
       "\n",
       "        ...,\n",
       "\n",
       "        [[-5.485435e-02, ...,  8.603595e-08],\n",
       "         ...,\n",
       "         [-5.478080e-02, ..., -8.702599e-08]]]])\n",
       "Coordinates:\n",
       "  * t        (t) float64 0.0 0.001581 0.003162 ... 0.04857 0.05013 0.0517\n",
       "  * phi      (phi) float64 0.0 0.01636 0.03272 0.04909 ... 6.234 6.25 6.267\n",
       "  * theta    (theta) float64 3.142 3.129 3.113 3.097 ... 0.02868 0.01249 0.0\n",
       "  * r        (r) float64 0.0 0.008149 0.0163 0.02445 ... 0.9997 0.9999 1.0\n",
       "    z        (r, theta) float64 -0.0 -0.0 -0.0 -0.0 ... 0.999 0.9996 0.9999 1.0\n",
       "    x        (r, theta, phi) float64 0.0 0.0 0.0 0.0 0.0 ... 0.0 0.0 0.0 0.0 0.0"
      ]
     },
     "execution_count": 19,
     "metadata": {},
     "output_type": "execute_result"
    }
   ],
   "source": [
    "T"
   ]
  },
  {
   "cell_type": "code",
   "execution_count": 38,
   "metadata": {},
   "outputs": [
    {
     "name": "stderr",
     "output_type": "stream",
     "text": [
      "/Users/kburns/Software/miniconda3/envs/dedalus-openblas/lib/python3.7/site-packages/matplotlib/pyplot.py:514: RuntimeWarning: More than 20 figures have been opened. Figures created through the pyplot interface (`matplotlib.pyplot.figure`) are retained until explicitly closed and may consume too much memory. (To control this warning, see the rcParam `figure.max_open_warning`).\n",
      "  max_open_warning, RuntimeWarning)\n"
     ]
    },
    {
     "data": {
      "application/vnd.jupyter.widget-view+json": {
       "model_id": "3031d129e9cf40b4a37469b2f79b05c4",
       "version_major": 2,
       "version_minor": 0
      },
      "text/plain": [
       "FigureCanvasNbAgg()"
      ]
     },
     "metadata": {},
     "output_type": "display_data"
    }
   ],
   "source": [
    "dpi = 200\n",
    "s = 1 / np.sqrt(3)\n",
    "plt.figure(figsize=(6,6))\n",
    "background = T.coords['z']\n",
    "\n",
    "for i in range(34):\n",
    "    dTi = T.isel(t=i) - background\n",
    "    plt.clf()\n",
    "    vmax = np.max(np.abs(dTi))\n",
    "    dTi.isel(phi=0).plot(x='x', y='z', add_colorbar=False, vmin=-vmax, vmax=vmax, cmap='RdBu')\n",
    "    dTi.isel(phi=192).plot(x='x', y='z', add_colorbar=False, vmin=-vmax, vmax=vmax, cmap='RdBu')    \n",
    "    plt.title('')\n",
    "    plt.axis('equal')\n",
    "    plt.axis('off')\n",
    "    plt.savefig('sphere_%03i.png' %i, dpi=dpi)\n",
    "    line, = plt.plot([s,s,-s,-s,s], [-s,s,s,-s,-s], '--k', lw=1)\n",
    "    plt.savefig('spherebox_%03i.png' %i, dpi=dpi)\n",
    "    line.set_visible(False)\n",
    "    plt.xlim(-s, s)\n",
    "    plt.ylim(-s, s)\n",
    "    plt.savefig('box_%03i.png' %i, dpi=dpi)"
   ]
  },
  {
   "cell_type": "markdown",
   "metadata": {},
   "source": [
    "###### "
   ]
  },
  {
   "cell_type": "code",
   "execution_count": 39,
   "metadata": {},
   "outputs": [
    {
     "data": {
      "text/plain": [
       "(34, 384, 194, 193)"
      ]
     },
     "execution_count": 39,
     "metadata": {},
     "output_type": "execute_result"
    }
   ],
   "source": [
    "T.shape"
   ]
  },
  {
   "cell_type": "code",
   "execution_count": null,
   "metadata": {},
   "outputs": [],
   "source": []
  },
  {
   "cell_type": "code",
   "execution_count": 8,
   "metadata": {},
   "outputs": [],
   "source": [
    "def volbot(setnum, task, skip=1):\n",
    "    data = get_data(setnum, task, skip=skip)\n",
    "    # Correct z offset\n",
    "    data = np.roll(data, 64//skip, axis=2)\n",
    "    # Renormalize\n",
    "    data /= np.sqrt(np.mean(data**2))\n",
    "    data[data < -2] = -2\n",
    "    data[data > 2] = 2\n",
    "    # Volume rendering\n",
    "    ipv.figure(width=1000, height=1000)\n",
    "    ipv.style.axes_off()\n",
    "    vol = ipv.volshow(data, level=[0.25, 0.25, 0.75], opacity=[0.1, 0.02, 0.1], level_width=0.05)\n",
    "    vol.brightness = 2.0\n",
    "    ipv.pylab.view(azimuth=90, elevation=30, distance=2)\n",
    "    ipv.show()"
   ]
  },
  {
   "cell_type": "code",
   "execution_count": null,
   "metadata": {},
   "outputs": [],
   "source": [
    "volbot(7, 'ωz', skip=4)"
   ]
  }
 ],
 "metadata": {
  "kernelspec": {
   "display_name": "Python 3",
   "language": "python",
   "name": "python3"
  },
  "language_info": {
   "codemirror_mode": {
    "name": "ipython",
    "version": 3
   },
   "file_extension": ".py",
   "mimetype": "text/x-python",
   "name": "python",
   "nbconvert_exporter": "python",
   "pygments_lexer": "ipython3",
   "version": "3.7.2"
  }
 },
 "nbformat": 4,
 "nbformat_minor": 2
}
