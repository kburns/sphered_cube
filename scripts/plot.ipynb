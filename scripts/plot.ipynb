{
 "cells": [
  {
   "cell_type": "code",
   "execution_count": 1,
   "metadata": {},
   "outputs": [],
   "source": [
    "import numpy as np"
   ]
  },
  {
   "cell_type": "code",
   "execution_count": 2,
   "metadata": {},
   "outputs": [],
   "source": [
    "import ipyvolume as ipv"
   ]
  },
  {
   "cell_type": "code",
   "execution_count": 3,
   "metadata": {},
   "outputs": [],
   "source": [
    "import matplotlib.pyplot as plt"
   ]
  },
  {
   "cell_type": "code",
   "execution_count": 4,
   "metadata": {},
   "outputs": [],
   "source": [
    "%matplotlib widget"
   ]
  },
  {
   "cell_type": "code",
   "execution_count": 9,
   "metadata": {},
   "outputs": [],
   "source": [
    "import xarray as xr\n",
    "import h5py"
   ]
  },
  {
   "cell_type": "code",
   "execution_count": 23,
   "metadata": {},
   "outputs": [],
   "source": [
    "def hdf5_to_xarray(h5_data):\n",
    "    \"\"\"Convert hdf5 dataset to xarray dataset.\"\"\"\n",
    "    data = h5_data[:]\n",
    "    coords = [(dim.label, dim[0][:]) for dim in h5_data.dims]\n",
    "    xr_data = xr.DataArray(data, coords=[coords[0], coords[3], coords[2], coords[1]])\n",
    "    return xr_data"
   ]
  },
  {
   "cell_type": "code",
   "execution_count": 27,
   "metadata": {},
   "outputs": [],
   "source": [
    "def get_data(setnum, task, skip=1):\n",
    "    # Load file\n",
    "    filename = \"scripts/rbc/rbc_s%i.h5\" %setnum\n",
    "    file = h5py.File(filename, 'r')\n",
    "    # Get data\n",
    "    #return file['tasks'][task]\n",
    "    xr = hdf5_to_xarray(file['tasks'][task])\n",
    "    return xr"
   ]
  },
  {
   "cell_type": "code",
   "execution_count": 54,
   "metadata": {},
   "outputs": [],
   "source": [
    "T = get_data(1, 'T')\n",
    "T.coords['z'] = T.coords['r'] * np.cos(T.coords['theta'])\n",
    "T.coords['x'] = T.coords['r'] * np.sin(T.coords['theta']) * np.cos(T.coords['phi'])"
   ]
  },
  {
   "cell_type": "code",
   "execution_count": 58,
   "metadata": {},
   "outputs": [
    {
     "name": "stderr",
     "output_type": "stream",
     "text": [
      "/Users/kburns/Software/miniconda3/envs/dedalus-openblas/lib/python3.7/site-packages/matplotlib/pyplot.py:514: RuntimeWarning: More than 20 figures have been opened. Figures created through the pyplot interface (`matplotlib.pyplot.figure`) are retained until explicitly closed and may consume too much memory. (To control this warning, see the rcParam `figure.max_open_warning`).\n",
      "  max_open_warning, RuntimeWarning)\n"
     ]
    },
    {
     "data": {
      "application/vnd.jupyter.widget-view+json": {
       "model_id": "b0073f3d7003457bb1b931c39a2543a6",
       "version_major": 2,
       "version_minor": 0
      },
      "text/plain": [
       "FigureCanvasNbAgg()"
      ]
     },
     "metadata": {},
     "output_type": "display_data"
    }
   ],
   "source": [
    "plt.figure()\n",
    "for i in range(10, 21):\n",
    "    plt.clf()\n",
    "    (T.isel(phi=0, t=i) - T.coords['z']).plot(x='x', y='z')\n",
    "    (T.isel(phi=92, t=i) - T.coords['z']).plot(x='x', y='z')\n",
    "    plt.axis('equal')\n",
    "    plt.savefig('frame_%i.png' %i)"
   ]
  },
  {
   "cell_type": "markdown",
   "metadata": {},
   "source": [
    "###### "
   ]
  },
  {
   "cell_type": "code",
   "execution_count": null,
   "metadata": {},
   "outputs": [],
   "source": []
  },
  {
   "cell_type": "code",
   "execution_count": null,
   "metadata": {},
   "outputs": [],
   "source": []
  },
  {
   "cell_type": "code",
   "execution_count": 8,
   "metadata": {},
   "outputs": [],
   "source": [
    "def volbot(setnum, task, skip=1):\n",
    "    data = get_data(setnum, task, skip=skip)\n",
    "    # Correct z offset\n",
    "    data = np.roll(data, 64//skip, axis=2)\n",
    "    # Renormalize\n",
    "    data /= np.sqrt(np.mean(data**2))\n",
    "    data[data < -2] = -2\n",
    "    data[data > 2] = 2\n",
    "    # Volume rendering\n",
    "    ipv.figure(width=1000, height=1000)\n",
    "    ipv.style.axes_off()\n",
    "    vol = ipv.volshow(data, level=[0.25, 0.25, 0.75], opacity=[0.1, 0.02, 0.1], level_width=0.05)\n",
    "    vol.brightness = 2.0\n",
    "    ipv.pylab.view(azimuth=90, elevation=30, distance=2)\n",
    "    ipv.show()"
   ]
  },
  {
   "cell_type": "code",
   "execution_count": null,
   "metadata": {},
   "outputs": [],
   "source": [
    "volbot(7, 'ωz', skip=4)"
   ]
  }
 ],
 "metadata": {
  "kernelspec": {
   "display_name": "Python 3",
   "language": "python",
   "name": "python3"
  },
  "language_info": {
   "codemirror_mode": {
    "name": "ipython",
    "version": 3
   },
   "file_extension": ".py",
   "mimetype": "text/x-python",
   "name": "python",
   "nbconvert_exporter": "python",
   "pygments_lexer": "ipython3",
   "version": "3.7.2"
  }
 },
 "nbformat": 4,
 "nbformat_minor": 2
}
